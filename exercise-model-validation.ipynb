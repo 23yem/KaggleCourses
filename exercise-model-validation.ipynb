{
 "cells": [
  {
   "cell_type": "markdown",
   "id": "5112c913",
   "metadata": {
    "papermill": {
     "duration": 0.006384,
     "end_time": "2023-07-04T19:36:20.658613",
     "exception": false,
     "start_time": "2023-07-04T19:36:20.652229",
     "status": "completed"
    },
    "tags": []
   },
   "source": [
    "**This notebook is an exercise in the [Introduction to Machine Learning](https://www.kaggle.com/learn/intro-to-machine-learning) course.  You can reference the tutorial at [this link](https://www.kaggle.com/dansbecker/model-validation).**\n",
    "\n",
    "---\n"
   ]
  },
  {
   "cell_type": "markdown",
   "id": "b77e726d",
   "metadata": {
    "papermill": {
     "duration": 0.005489,
     "end_time": "2023-07-04T19:36:20.669838",
     "exception": false,
     "start_time": "2023-07-04T19:36:20.664349",
     "status": "completed"
    },
    "tags": []
   },
   "source": [
    "## Recap\n",
    "You've built a model. In this exercise you will test how good your model is.\n",
    "\n",
    "Run the cell below to set up your coding environment where the previous exercise left off."
   ]
  },
  {
   "cell_type": "code",
   "execution_count": 1,
   "id": "786acf7e",
   "metadata": {
    "execution": {
     "iopub.execute_input": "2023-07-04T19:36:20.683115Z",
     "iopub.status.busy": "2023-07-04T19:36:20.682563Z",
     "iopub.status.idle": "2023-07-04T19:36:22.605316Z",
     "shell.execute_reply": "2023-07-04T19:36:22.603610Z"
    },
    "papermill": {
     "duration": 1.934135,
     "end_time": "2023-07-04T19:36:22.609541",
     "exception": false,
     "start_time": "2023-07-04T19:36:20.675406",
     "status": "completed"
    },
    "tags": []
   },
   "outputs": [
    {
     "name": "stdout",
     "output_type": "stream",
     "text": [
      "First in-sample predictions: [208500. 181500. 223500. 140000. 250000.]\n",
      "Actual target values for those homes: [208500, 181500, 223500, 140000, 250000]\n",
      "Setup Complete\n"
     ]
    }
   ],
   "source": [
    "# Code you have previously used to load data\n",
    "import pandas as pd\n",
    "from sklearn.tree import DecisionTreeRegressor\n",
    "\n",
    "# Path of the file to read\n",
    "iowa_file_path = '../input/home-data-for-ml-course/train.csv'\n",
    "\n",
    "home_data = pd.read_csv(iowa_file_path)\n",
    "y = home_data.SalePrice\n",
    "feature_columns = ['LotArea', 'YearBuilt', '1stFlrSF', '2ndFlrSF', 'FullBath', 'BedroomAbvGr', 'TotRmsAbvGrd']\n",
    "X = home_data[feature_columns]\n",
    "\n",
    "# Specify Model\n",
    "iowa_model = DecisionTreeRegressor()\n",
    "# Fit Model\n",
    "iowa_model.fit(X, y)\n",
    "\n",
    "print(\"First in-sample predictions:\", iowa_model.predict(X.head()))\n",
    "print(\"Actual target values for those homes:\", y.head().tolist())\n",
    "\n",
    "# Set up code checking\n",
    "from learntools.core import binder\n",
    "binder.bind(globals())\n",
    "from learntools.machine_learning.ex4 import *\n",
    "print(\"Setup Complete\")"
   ]
  },
  {
   "cell_type": "markdown",
   "id": "6c143372",
   "metadata": {
    "papermill": {
     "duration": 0.006494,
     "end_time": "2023-07-04T19:36:22.624061",
     "exception": false,
     "start_time": "2023-07-04T19:36:22.617567",
     "status": "completed"
    },
    "tags": []
   },
   "source": [
    "# Exercises\n",
    "\n",
    "## Step 1: Split Your Data\n",
    "Use the `train_test_split` function to split up your data.\n",
    "\n",
    "Give it the argument `random_state=1` so the `check` functions know what to expect when verifying your code.\n",
    "\n",
    "Recall, your features are loaded in the DataFrame **X** and your target is loaded in **y**.\n"
   ]
  },
  {
   "cell_type": "code",
   "execution_count": 2,
   "id": "db449bab",
   "metadata": {
    "execution": {
     "iopub.execute_input": "2023-07-04T19:36:22.642058Z",
     "iopub.status.busy": "2023-07-04T19:36:22.641334Z",
     "iopub.status.idle": "2023-07-04T19:36:22.667888Z",
     "shell.execute_reply": "2023-07-04T19:36:22.666186Z"
    },
    "papermill": {
     "duration": 0.03972,
     "end_time": "2023-07-04T19:36:22.671672",
     "exception": false,
     "start_time": "2023-07-04T19:36:22.631952",
     "status": "completed"
    },
    "tags": []
   },
   "outputs": [
    {
     "data": {
      "application/javascript": [
       "parent.postMessage({\"jupyterEvent\": \"custom.exercise_interaction\", \"data\": {\"outcomeType\": 1, \"valueTowardsCompletion\": 0.25, \"interactionType\": 1, \"questionType\": 2, \"questionId\": \"1_SplitData\", \"learnToolsVersion\": \"0.3.4\", \"failureMessage\": \"\", \"exceptionClass\": \"\", \"trace\": \"\"}}, \"*\")"
      ],
      "text/plain": [
       "<IPython.core.display.Javascript object>"
      ]
     },
     "metadata": {},
     "output_type": "display_data"
    },
    {
     "data": {
      "text/markdown": [
       "<span style=\"color:#33cc33\">Correct</span>"
      ],
      "text/plain": [
       "Correct"
      ]
     },
     "metadata": {},
     "output_type": "display_data"
    }
   ],
   "source": [
    "# Import the train_test_split function and uncomment\n",
    "from sklearn.model_selection import train_test_split\n",
    "\n",
    "# fill in and uncomment\n",
    "train_X, val_X, train_y, val_y = train_test_split(X, y, random_state=1)\n",
    "\n",
    "# Check your answer\n",
    "step_1.check()"
   ]
  },
  {
   "cell_type": "code",
   "execution_count": 3,
   "id": "77c58b7d",
   "metadata": {
    "execution": {
     "iopub.execute_input": "2023-07-04T19:36:22.687258Z",
     "iopub.status.busy": "2023-07-04T19:36:22.686863Z",
     "iopub.status.idle": "2023-07-04T19:36:22.696098Z",
     "shell.execute_reply": "2023-07-04T19:36:22.694995Z"
    },
    "papermill": {
     "duration": 0.020014,
     "end_time": "2023-07-04T19:36:22.698446",
     "exception": false,
     "start_time": "2023-07-04T19:36:22.678432",
     "status": "completed"
    },
    "tags": []
   },
   "outputs": [
    {
     "data": {
      "application/javascript": [
       "parent.postMessage({\"jupyterEvent\": \"custom.exercise_interaction\", \"data\": {\"interactionType\": 3, \"questionType\": 2, \"questionId\": \"1_SplitData\", \"learnToolsVersion\": \"0.3.4\", \"valueTowardsCompletion\": 0.0, \"failureMessage\": \"\", \"exceptionClass\": \"\", \"trace\": \"\", \"outcomeType\": 4}}, \"*\")"
      ],
      "text/plain": [
       "<IPython.core.display.Javascript object>"
      ]
     },
     "metadata": {},
     "output_type": "display_data"
    },
    {
     "data": {
      "text/markdown": [
       "<span style=\"color:#33cc99\">Solution:</span> \n",
       "```python\n",
       "from sklearn.model_selection import train_test_split\n",
       "train_X, val_X, train_y, val_y = train_test_split(X, y, random_state=1)\n",
       "```"
      ],
      "text/plain": [
       "Solution: \n",
       "```python\n",
       "from sklearn.model_selection import train_test_split\n",
       "train_X, val_X, train_y, val_y = train_test_split(X, y, random_state=1)\n",
       "```"
      ]
     },
     "metadata": {},
     "output_type": "display_data"
    }
   ],
   "source": [
    "# The lines below will show you a hint or the solution.\n",
    "# step_1.hint() \n",
    "step_1.solution()\n"
   ]
  },
  {
   "cell_type": "markdown",
   "id": "3c11acca",
   "metadata": {
    "papermill": {
     "duration": 0.007197,
     "end_time": "2023-07-04T19:36:22.713954",
     "exception": false,
     "start_time": "2023-07-04T19:36:22.706757",
     "status": "completed"
    },
    "tags": []
   },
   "source": [
    "## Step 2: Specify and Fit the Model\n",
    "\n",
    "Create a `DecisionTreeRegressor` model and fit it to the relevant data.\n",
    "Set `random_state` to 1 again when creating the model."
   ]
  },
  {
   "cell_type": "code",
   "execution_count": 4,
   "id": "8b8755ab",
   "metadata": {
    "execution": {
     "iopub.execute_input": "2023-07-04T19:36:22.728505Z",
     "iopub.status.busy": "2023-07-04T19:36:22.728135Z",
     "iopub.status.idle": "2023-07-04T19:36:22.757693Z",
     "shell.execute_reply": "2023-07-04T19:36:22.756668Z"
    },
    "papermill": {
     "duration": 0.039511,
     "end_time": "2023-07-04T19:36:22.759947",
     "exception": false,
     "start_time": "2023-07-04T19:36:22.720436",
     "status": "completed"
    },
    "tags": []
   },
   "outputs": [
    {
     "name": "stdout",
     "output_type": "stream",
     "text": [
      "[186500. 184000. 130000.  92000. 164500. 220000. 335000. 144152. 215000.\n",
      " 262000.]\n",
      "[186500. 184000. 130000.  92000. 164500. 220000. 335000. 144152. 215000.\n",
      " 262000.]\n"
     ]
    },
    {
     "data": {
      "application/javascript": [
       "parent.postMessage({\"jupyterEvent\": \"custom.exercise_interaction\", \"data\": {\"outcomeType\": 1, \"valueTowardsCompletion\": 0.25, \"interactionType\": 1, \"questionType\": 2, \"questionId\": \"2_FitModelWithTrain\", \"learnToolsVersion\": \"0.3.4\", \"failureMessage\": \"\", \"exceptionClass\": \"\", \"trace\": \"\"}}, \"*\")"
      ],
      "text/plain": [
       "<IPython.core.display.Javascript object>"
      ]
     },
     "metadata": {},
     "output_type": "display_data"
    },
    {
     "data": {
      "text/markdown": [
       "<span style=\"color:#33cc33\">Correct</span>"
      ],
      "text/plain": [
       "Correct"
      ]
     },
     "metadata": {},
     "output_type": "display_data"
    }
   ],
   "source": [
    "# You imported DecisionTreeRegressor in your last exercise\n",
    "# and that code has been copied to the setup code above. So, no need to\n",
    "# import it again\n",
    "\n",
    "# Specify the model\n",
    "iowa_model = DecisionTreeRegressor(random_state=1)\n",
    "\n",
    "# Fit iowa_model with the training data.\n",
    "iowa_model.fit(train_X, train_y)\n",
    "\n",
    "# Check your answer\n",
    "step_2.check()"
   ]
  },
  {
   "cell_type": "code",
   "execution_count": 5,
   "id": "806eeb70",
   "metadata": {
    "execution": {
     "iopub.execute_input": "2023-07-04T19:36:22.775399Z",
     "iopub.status.busy": "2023-07-04T19:36:22.775037Z",
     "iopub.status.idle": "2023-07-04T19:36:22.779706Z",
     "shell.execute_reply": "2023-07-04T19:36:22.778666Z"
    },
    "papermill": {
     "duration": 0.015056,
     "end_time": "2023-07-04T19:36:22.781981",
     "exception": false,
     "start_time": "2023-07-04T19:36:22.766925",
     "status": "completed"
    },
    "tags": []
   },
   "outputs": [],
   "source": [
    "# step_2.hint()\n",
    "# step_2.solution()"
   ]
  },
  {
   "cell_type": "markdown",
   "id": "784f95eb",
   "metadata": {
    "papermill": {
     "duration": 0.006715,
     "end_time": "2023-07-04T19:36:22.795621",
     "exception": false,
     "start_time": "2023-07-04T19:36:22.788906",
     "status": "completed"
    },
    "tags": []
   },
   "source": [
    "## Step 3: Make Predictions with Validation data\n"
   ]
  },
  {
   "cell_type": "code",
   "execution_count": 6,
   "id": "0d450757",
   "metadata": {
    "execution": {
     "iopub.execute_input": "2023-07-04T19:36:22.810854Z",
     "iopub.status.busy": "2023-07-04T19:36:22.810435Z",
     "iopub.status.idle": "2023-07-04T19:36:22.822226Z",
     "shell.execute_reply": "2023-07-04T19:36:22.821322Z"
    },
    "papermill": {
     "duration": 0.021957,
     "end_time": "2023-07-04T19:36:22.824517",
     "exception": false,
     "start_time": "2023-07-04T19:36:22.802560",
     "status": "completed"
    },
    "tags": []
   },
   "outputs": [
    {
     "data": {
      "application/javascript": [
       "parent.postMessage({\"jupyterEvent\": \"custom.exercise_interaction\", \"data\": {\"outcomeType\": 1, \"valueTowardsCompletion\": 0.25, \"interactionType\": 1, \"questionType\": 2, \"questionId\": \"3_ValPreds\", \"learnToolsVersion\": \"0.3.4\", \"failureMessage\": \"\", \"exceptionClass\": \"\", \"trace\": \"\"}}, \"*\")"
      ],
      "text/plain": [
       "<IPython.core.display.Javascript object>"
      ]
     },
     "metadata": {},
     "output_type": "display_data"
    },
    {
     "data": {
      "text/markdown": [
       "<span style=\"color:#33cc33\">Correct</span>"
      ],
      "text/plain": [
       "Correct"
      ]
     },
     "metadata": {},
     "output_type": "display_data"
    }
   ],
   "source": [
    "# Predict with all validation observations\n",
    "val_predictions = iowa_model.predict(val_X)\n",
    "\n",
    "# Check your answer\n",
    "step_3.check()"
   ]
  },
  {
   "cell_type": "code",
   "execution_count": 7,
   "id": "e064308e",
   "metadata": {
    "execution": {
     "iopub.execute_input": "2023-07-04T19:36:22.840500Z",
     "iopub.status.busy": "2023-07-04T19:36:22.840119Z",
     "iopub.status.idle": "2023-07-04T19:36:22.844870Z",
     "shell.execute_reply": "2023-07-04T19:36:22.843636Z"
    },
    "papermill": {
     "duration": 0.015344,
     "end_time": "2023-07-04T19:36:22.847156",
     "exception": false,
     "start_time": "2023-07-04T19:36:22.831812",
     "status": "completed"
    },
    "tags": []
   },
   "outputs": [],
   "source": [
    "# step_3.hint()\n",
    "# step_3.solution()"
   ]
  },
  {
   "cell_type": "markdown",
   "id": "5282e9e8",
   "metadata": {
    "papermill": {
     "duration": 0.007154,
     "end_time": "2023-07-04T19:36:22.861654",
     "exception": false,
     "start_time": "2023-07-04T19:36:22.854500",
     "status": "completed"
    },
    "tags": []
   },
   "source": [
    "Inspect your predictions and actual values from validation data."
   ]
  },
  {
   "cell_type": "code",
   "execution_count": 8,
   "id": "d24a18a7",
   "metadata": {
    "execution": {
     "iopub.execute_input": "2023-07-04T19:36:22.878244Z",
     "iopub.status.busy": "2023-07-04T19:36:22.877869Z",
     "iopub.status.idle": "2023-07-04T19:36:22.885400Z",
     "shell.execute_reply": "2023-07-04T19:36:22.884137Z"
    },
    "papermill": {
     "duration": 0.018459,
     "end_time": "2023-07-04T19:36:22.887465",
     "exception": false,
     "start_time": "2023-07-04T19:36:22.869006",
     "status": "completed"
    },
    "tags": []
   },
   "outputs": [
    {
     "name": "stdout",
     "output_type": "stream",
     "text": [
      "[186500. 184000. 130000.  92000. 164500.]\n",
      "0       208500\n",
      "1       181500\n",
      "2       223500\n",
      "3       140000\n",
      "4       250000\n",
      "         ...  \n",
      "1455    175000\n",
      "1456    210000\n",
      "1457    266500\n",
      "1458    142125\n",
      "1459    147500\n",
      "Name: SalePrice, Length: 1460, dtype: int64\n"
     ]
    }
   ],
   "source": [
    "# print the top few validation predictions\n",
    "print(val_predictions[0:5])\n",
    "# print the top few actual prices from validation data\n",
    "print(y)"
   ]
  },
  {
   "cell_type": "markdown",
   "id": "b53e3e5a",
   "metadata": {
    "papermill": {
     "duration": 0.007117,
     "end_time": "2023-07-04T19:36:22.901910",
     "exception": false,
     "start_time": "2023-07-04T19:36:22.894793",
     "status": "completed"
    },
    "tags": []
   },
   "source": [
    "What do you notice that is different from what you saw with in-sample predictions (which are printed after the top code cell in this page).\n",
    "\n",
    "Do you remember why validation predictions differ from in-sample (or training) predictions? This is an important idea from the last lesson.\n",
    "\n",
    "## Step 4: Calculate the Mean Absolute Error in Validation Data\n"
   ]
  },
  {
   "cell_type": "code",
   "execution_count": 9,
   "id": "dc0a067a",
   "metadata": {
    "execution": {
     "iopub.execute_input": "2023-07-04T19:36:22.918386Z",
     "iopub.status.busy": "2023-07-04T19:36:22.917707Z",
     "iopub.status.idle": "2023-07-04T19:36:22.929497Z",
     "shell.execute_reply": "2023-07-04T19:36:22.928387Z"
    },
    "papermill": {
     "duration": 0.0225,
     "end_time": "2023-07-04T19:36:22.931718",
     "exception": false,
     "start_time": "2023-07-04T19:36:22.909218",
     "status": "completed"
    },
    "tags": []
   },
   "outputs": [
    {
     "name": "stdout",
     "output_type": "stream",
     "text": [
      "29652.931506849316\n"
     ]
    },
    {
     "data": {
      "application/javascript": [
       "parent.postMessage({\"jupyterEvent\": \"custom.exercise_interaction\", \"data\": {\"outcomeType\": 1, \"valueTowardsCompletion\": 0.25, \"interactionType\": 1, \"questionType\": 1, \"questionId\": \"4_MAE\", \"learnToolsVersion\": \"0.3.4\", \"failureMessage\": \"\", \"exceptionClass\": \"\", \"trace\": \"\"}}, \"*\")"
      ],
      "text/plain": [
       "<IPython.core.display.Javascript object>"
      ]
     },
     "metadata": {},
     "output_type": "display_data"
    },
    {
     "data": {
      "text/markdown": [
       "<span style=\"color:#33cc33\">Correct</span>"
      ],
      "text/plain": [
       "Correct"
      ]
     },
     "metadata": {},
     "output_type": "display_data"
    }
   ],
   "source": [
    "from sklearn.metrics import mean_absolute_error\n",
    "val_mae = mean_absolute_error(val_y, val_predictions)\n",
    "\n",
    "# uncomment following line to see the validation_mae\n",
    "print(val_mae)\n",
    "\n",
    "# Check your answer\n",
    "step_4.check()"
   ]
  },
  {
   "cell_type": "code",
   "execution_count": 10,
   "id": "c23d416e",
   "metadata": {
    "execution": {
     "iopub.execute_input": "2023-07-04T19:36:22.949086Z",
     "iopub.status.busy": "2023-07-04T19:36:22.948713Z",
     "iopub.status.idle": "2023-07-04T19:36:22.961321Z",
     "shell.execute_reply": "2023-07-04T19:36:22.960433Z"
    },
    "papermill": {
     "duration": 0.023833,
     "end_time": "2023-07-04T19:36:22.963451",
     "exception": false,
     "start_time": "2023-07-04T19:36:22.939618",
     "status": "completed"
    },
    "tags": []
   },
   "outputs": [
    {
     "data": {
      "application/javascript": [
       "parent.postMessage({\"jupyterEvent\": \"custom.exercise_interaction\", \"data\": {\"interactionType\": 2, \"questionType\": 1, \"questionId\": \"4_MAE\", \"learnToolsVersion\": \"0.3.4\", \"valueTowardsCompletion\": 0.0, \"failureMessage\": \"\", \"exceptionClass\": \"\", \"trace\": \"\", \"outcomeType\": 4}}, \"*\")"
      ],
      "text/plain": [
       "<IPython.core.display.Javascript object>"
      ]
     },
     "metadata": {},
     "output_type": "display_data"
    },
    {
     "data": {
      "text/markdown": [
       "<span style=\"color:#3366cc\">Hint:</span> The order of arguments to mean_absolute_error doesn't matter. Make sure you fit to only the training data in step 2."
      ],
      "text/plain": [
       "Hint: The order of arguments to mean_absolute_error doesn't matter. Make sure you fit to only the training data in step 2."
      ]
     },
     "metadata": {},
     "output_type": "display_data"
    },
    {
     "data": {
      "application/javascript": [
       "parent.postMessage({\"jupyterEvent\": \"custom.exercise_interaction\", \"data\": {\"interactionType\": 3, \"questionType\": 1, \"questionId\": \"4_MAE\", \"learnToolsVersion\": \"0.3.4\", \"valueTowardsCompletion\": 0.0, \"failureMessage\": \"\", \"exceptionClass\": \"\", \"trace\": \"\", \"outcomeType\": 4}}, \"*\")"
      ],
      "text/plain": [
       "<IPython.core.display.Javascript object>"
      ]
     },
     "metadata": {},
     "output_type": "display_data"
    },
    {
     "data": {
      "text/markdown": [
       "<span style=\"color:#33cc99\">Solution:</span> \n",
       "```python\n",
       "val_mae = mean_absolute_error(val_y, val_predictions)\n",
       "```"
      ],
      "text/plain": [
       "Solution: \n",
       "```python\n",
       "val_mae = mean_absolute_error(val_y, val_predictions)\n",
       "```"
      ]
     },
     "metadata": {},
     "output_type": "display_data"
    }
   ],
   "source": [
    "step_4.hint()\n",
    "step_4.solution()"
   ]
  },
  {
   "cell_type": "markdown",
   "id": "68b884fb",
   "metadata": {
    "papermill": {
     "duration": 0.008204,
     "end_time": "2023-07-04T19:36:22.980542",
     "exception": false,
     "start_time": "2023-07-04T19:36:22.972338",
     "status": "completed"
    },
    "tags": []
   },
   "source": [
    "Is that MAE good?  There isn't a general rule for what values are good that applies across applications. But you'll see how to use (and improve) this number in the next step.\n",
    "\n",
    "# Keep Going\n",
    "\n",
    "You are ready for **[Underfitting and Overfitting](https://www.kaggle.com/dansbecker/underfitting-and-overfitting).**\n"
   ]
  },
  {
   "cell_type": "markdown",
   "id": "2d457ae4",
   "metadata": {
    "papermill": {
     "duration": 0.008346,
     "end_time": "2023-07-04T19:36:22.997179",
     "exception": false,
     "start_time": "2023-07-04T19:36:22.988833",
     "status": "completed"
    },
    "tags": []
   },
   "source": [
    "---\n",
    "\n",
    "\n",
    "\n",
    "\n",
    "*Have questions or comments? Visit the [course discussion forum](https://www.kaggle.com/learn/intro-to-machine-learning/discussion) to chat with other learners.*"
   ]
  }
 ],
 "metadata": {
  "kernelspec": {
   "display_name": "Python 3",
   "language": "python",
   "name": "python3"
  },
  "language_info": {
   "codemirror_mode": {
    "name": "ipython",
    "version": 3
   },
   "file_extension": ".py",
   "mimetype": "text/x-python",
   "name": "python",
   "nbconvert_exporter": "python",
   "pygments_lexer": "ipython3",
   "version": "3.10.10"
  },
  "papermill": {
   "default_parameters": {},
   "duration": 15.002865,
   "end_time": "2023-07-04T19:36:23.927714",
   "environment_variables": {},
   "exception": null,
   "input_path": "__notebook__.ipynb",
   "output_path": "__notebook__.ipynb",
   "parameters": {},
   "start_time": "2023-07-04T19:36:08.924849",
   "version": "2.4.0"
  }
 },
 "nbformat": 4,
 "nbformat_minor": 5
}
